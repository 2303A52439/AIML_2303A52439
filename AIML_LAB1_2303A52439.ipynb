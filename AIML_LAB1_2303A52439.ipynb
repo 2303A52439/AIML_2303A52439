{
  "nbformat": 4,
  "nbformat_minor": 0,
  "metadata": {
    "colab": {
      "provenance": []
    },
    "kernelspec": {
      "name": "python3",
      "display_name": "Python 3"
    },
    "language_info": {
      "name": "python"
    }
  },
  "cells": [
    {
      "cell_type": "code",
      "execution_count": null,
      "metadata": {
        "id": "XV22QxUQZbla"
      },
      "outputs": [],
      "source": []
    },
    {
      "cell_type": "markdown",
      "source": [
        "Part 1 – Implement Basic Data Structures using Numpy, Pandas\n",
        "1. Lists\n",
        "2. Arrays\n",
        "3. Identify their type using type()\n",
        "4. Perform mathematical operations on these datasets created - multiplication, division,\n",
        "poweroff\n",
        "5. Combine text with Numpy fuction to generate a textual output - ”Addition of Two:\n",
        "array1 +array 2\n",
        "6. Implement np.sin(), log(), log2(), np.exp())"
      ],
      "metadata": {
        "id": "VWXAe75tZgEp"
      }
    },
    {
      "cell_type": "code",
      "source": [
        "import numpy as np\n",
        "list1=[1,2,3,4,5]\n",
        "array1=np.array(list1)\n",
        "array1"
      ],
      "metadata": {
        "colab": {
          "base_uri": "https://localhost:8080/"
        },
        "id": "QwtPKdKUZlXC",
        "outputId": "644dce20-d3fb-4fee-db7f-a8faab6c0315"
      },
      "execution_count": 1,
      "outputs": [
        {
          "output_type": "execute_result",
          "data": {
            "text/plain": [
              "array([1, 2, 3, 4, 5])"
            ]
          },
          "metadata": {},
          "execution_count": 1
        }
      ]
    },
    {
      "cell_type": "code",
      "source": [
        "type(list1)\n"
      ],
      "metadata": {
        "colab": {
          "base_uri": "https://localhost:8080/"
        },
        "id": "0W3mfIZCa0gp",
        "outputId": "0ccfbff0-ddde-4ea1-e1ae-5dee65099a4c"
      },
      "execution_count": 3,
      "outputs": [
        {
          "output_type": "execute_result",
          "data": {
            "text/plain": [
              "list"
            ]
          },
          "metadata": {},
          "execution_count": 3
        }
      ]
    },
    {
      "cell_type": "code",
      "source": [
        "type(array1)"
      ],
      "metadata": {
        "colab": {
          "base_uri": "https://localhost:8080/"
        },
        "id": "1yJKXMyha-SA",
        "outputId": "dac90bc3-3e26-4cd9-fb16-4b1e9b9f1024"
      },
      "execution_count": 4,
      "outputs": [
        {
          "output_type": "execute_result",
          "data": {
            "text/plain": [
              "numpy.ndarray"
            ]
          },
          "metadata": {},
          "execution_count": 4
        }
      ]
    },
    {
      "cell_type": "markdown",
      "source": [
        "Performing Mathematical Operations"
      ],
      "metadata": {
        "id": "Ssm60_OBbLyh"
      }
    },
    {
      "cell_type": "code",
      "source": [
        "print(\"Multiplication : \" , list1*array1)\n",
        "print(\"division : \" , list1/array1)\n",
        "print(\"Exponent : \" , list1**array1)"
      ],
      "metadata": {
        "colab": {
          "base_uri": "https://localhost:8080/"
        },
        "id": "_MXc6pblbUPB",
        "outputId": "b482b126-7913-4d03-e412-7e0a34e4c4bd"
      },
      "execution_count": 12,
      "outputs": [
        {
          "output_type": "stream",
          "name": "stdout",
          "text": [
            "Multiplication :  [ 1  4  9 16 25]\n",
            "division :  [1. 1. 1. 1. 1.]\n",
            "Exponent :  [   1    4   27  256 3125]\n"
          ]
        }
      ]
    },
    {
      "cell_type": "markdown",
      "source": [
        "Combining text with Numpy fuction to generate a textual output - ”Addition of Two: array1 +array 2"
      ],
      "metadata": {
        "id": "pWJHhRlpcQwe"
      }
    },
    {
      "cell_type": "code",
      "source": [
        "print(\"Addition of Two : array1 and list1 :- \" , array1+list1)"
      ],
      "metadata": {
        "colab": {
          "base_uri": "https://localhost:8080/"
        },
        "id": "3l-wWHFlcVAo",
        "outputId": "5eb71dac-53de-4f86-8bf9-749c739909a0"
      },
      "execution_count": 16,
      "outputs": [
        {
          "output_type": "stream",
          "name": "stdout",
          "text": [
            "Addition of Two : array1 and list1 :-  [ 2  4  6  8 10]\n"
          ]
        }
      ]
    },
    {
      "cell_type": "markdown",
      "source": [
        "Implementaion of np.sin(), log(), log2(), np.exp()"
      ],
      "metadata": {
        "id": "2FMhs-yUc3_u"
      }
    },
    {
      "cell_type": "code",
      "source": [
        "print(\"Sin values for array 1 : \" ,np.sin(array1))\n",
        "print(\"log tp the base 10 valus of array 1 : \",np.log(array1))\n",
        "print(\"log to the base 2 values of array 1 : \" ,np.log2(array1))\n",
        "print(\"exponetial values of array 1 : \",np.exp(array1))"
      ],
      "metadata": {
        "colab": {
          "base_uri": "https://localhost:8080/"
        },
        "id": "zL842Giuc8cH",
        "outputId": "06625bcb-6746-47b2-a3f1-7eb59ae12840"
      },
      "execution_count": 24,
      "outputs": [
        {
          "output_type": "stream",
          "name": "stdout",
          "text": [
            "Sin values for array 1 :  [ 0.84147098  0.90929743  0.14112001 -0.7568025  -0.95892427]\n",
            "log tp the base 10 valus of array 1 :  [0.         0.69314718 1.09861229 1.38629436 1.60943791]\n",
            "log to the base 2 values of array 1 :  [0.         1.         1.5849625  2.         2.32192809]\n",
            "exponetial values of array 1 :  [  2.71828183   7.3890561   20.08553692  54.59815003 148.4131591 ]\n"
          ]
        }
      ]
    }
  ]
}